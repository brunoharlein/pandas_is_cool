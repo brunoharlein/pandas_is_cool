{
 "cells": [
  {
   "cell_type": "markdown",
   "metadata": {},
   "source": [
    "importer la librairie pandas et renommer la en pd"
   ]
  },
  {
   "cell_type": "markdown",
   "metadata": {},
   "source": [
    "Créer un DataFrame food_info via le fichier csv food_info.csv"
   ]
  },
  {
   "cell_type": "markdown",
   "metadata": {},
   "source": [
    "Sélectionner une ligne Assigner la 100 eme ligne du dataframe food_info à la variable row_100 afficher le resultat."
   ]
  },
  {
   "cell_type": "markdown",
   "metadata": {},
   "source": [
    "Je voudrais connaitre le nombre de ligne effectives dans la colonne \"Water_(g)\" (Combien de lignes sont avec du contenu \" donc sans la valeur NaN\")\n",
    "Assigner le résultat sous c_water et afficher le résultat \n",
    "pour info : https://pandas.pydata.org/pandas-docs/stable/reference/frame.html"
   ]
  },
  {
   "cell_type": "code",
   "execution_count": null,
   "metadata": {},
   "outputs": [],
   "source": []
  },
  {
   "cell_type": "markdown",
   "metadata": {},
   "source": [
    "Sélectionner les 5 dernieres lignes de food_info et assigner à la variable last_rows.\n",
    "Recommencer mais d'une autre façon en assignant la variable last_rows2"
   ]
  },
  {
   "cell_type": "code",
   "execution_count": null,
   "metadata": {},
   "outputs": [],
   "source": []
  },
  {
   "cell_type": "markdown",
   "metadata": {},
   "source": [
    "Assigner la colonne \"protein_(g)\" à la variable protein.\n",
    "Assigner la colonne \"Cholestrl_(mg)\" à la variable cholesterol.\n",
    "Afficher les resultats"
   ]
  },
  {
   "cell_type": "code",
   "execution_count": null,
   "metadata": {},
   "outputs": [],
   "source": []
  },
  {
   "cell_type": "markdown",
   "metadata": {},
   "source": [
    "Sélectionner les colonnes \"Shrt_Desc\", \"Selenium_(mcg)\" et \"Thiamin_(mg)\" et assigner le DataFrame resultant à la variable selenium_thiamin.\n",
    "Afficher le résultat"
   ]
  },
  {
   "cell_type": "code",
   "execution_count": null,
   "metadata": {},
   "outputs": [],
   "source": []
  },
  {
   "cell_type": "markdown",
   "metadata": {},
   "source": [
    "# Cas pratique"
   ]
  },
  {
   "cell_type": "markdown",
   "metadata": {},
   "source": [
    "Selectionner et afficher seulement les colonnes qui utilisent comme unité de mesure les grammes (c'est à dire qui se termine par \"(g)\". Pour cela\n",
    "- Utiliser l'attribut columns pour retourner le nom des colonnes du dataframe food_info et convertir en liste utilisant la methode tolist()\n",
    "- Créer une nouvelle liste qu'on nommera gram_columns, contenant seulement les colonnes se terminant par \"(g)\". Indice: la méthode endswith() retourne True si l'objet sur lequel on l'applique se termine par l'élément entre parenthèse. ex: total(g).endswith(\"g\") retourne True. Une boucle for est fortement conseillé pour parcourir les noms de colonne.\n",
    "-Selectionner les colonnes de gram_columns pour le dataframe food_info et assigner le dataframe résultat à la variable gram_df\n",
    "- Afficher les 3 premieres valeurs de ce dataframe gram_df\n",
    "\n",
    "Voici la doc pandas au cas ou : https://pandas.pydata.org/pandas-docs/stable/reference/io.html"
   ]
  },
  {
   "cell_type": "code",
   "execution_count": null,
   "metadata": {},
   "outputs": [],
   "source": []
  },
  {
   "cell_type": "markdown",
   "metadata": {},
   "source": [
    "\n",
    "Importer la librairie Pandas.\n",
    "\n",
    "Lire le fichier \"food_info.csv\" dans un dataframe qu'on nommera food_info.\n",
    "\n",
    "Utiliser l'attribut DataFrame columns suivi de la méthode Index.tolist() pour retourner une liste contenant tous les noms de colonne de food_info.\n",
    "\n",
    "Assigner la liste resultante à la variable col-names et utiliser la fonction print() pour afficher le nom des colonnes.\n",
    "\n",
    "Enfin afficher les 3 premiers éléments de food_info"
   ]
  },
  {
   "cell_type": "code",
   "execution_count": null,
   "metadata": {},
   "outputs": [],
   "source": []
  },
  {
   "cell_type": "markdown",
   "metadata": {},
   "source": [
    "# Transformer une colonne (pratique)"
   ]
  },
  {
   "cell_type": "markdown",
   "metadata": {},
   "source": [
    "- Diviser la colonne \"Sodium_(mg)\" par 1000 pour convertir cette colonne en grammes et assigner le resultat à la variable sodium_grams.\n",
    "\n",
    "- Multiplier la colonne \"Sugar_Tot(g)\" par 1000 pour convertir en milligrammes et assigner le resultat à la variable sugar_milligrams."
   ]
  },
  {
   "cell_type": "code",
   "execution_count": null,
   "metadata": {},
   "outputs": [],
   "source": []
  },
  {
   "cell_type": "markdown",
   "metadata": {},
   "source": [
    "# Opérations mathématiques entre colonnes (pratique)"
   ]
  },
  {
   "cell_type": "markdown",
   "metadata": {},
   "source": [
    "- Diviser la colonne \"Protein(g)\" par la colonne \"Water(g)\" et assigner le résultat à la variable grams_of_protein_per_gram_of_water.\n",
    "\n",
    "- Additionner les colonnes \"Calcium(mg)\" et \"Iron(mg\" et assigner le résultat à la variable milligrams_of_calcium_and_iron.\n",
    "\n",
    "- Afficher les resultats"
   ]
  },
  {
   "cell_type": "code",
   "execution_count": null,
   "metadata": {},
   "outputs": [],
   "source": []
  },
  {
   "cell_type": "markdown",
   "metadata": {},
   "source": [
    "# Créer un indice nutritionnel (pratique)"
   ]
  },
  {
   "cell_type": "markdown",
   "metadata": {},
   "source": [
    "Score = 2 x (Protein_(g)) - 0.75 x (LipidTot(g))"
   ]
  },
  {
   "cell_type": "markdown",
   "metadata": {},
   "source": [
    "- Multiplier la colonne \"Protein_(g)\" par 2 et assigner le résultat à la variable protein.\n",
    "\n",
    "- Multiplier la colonne \"LipidTot(g)\" par -0.75 et assigner le résultat à la variable fat.\n",
    "\n",
    "- Additionner les variables ensemble et assigner le résultat à la variable rating.\n",
    "\n",
    "- Afficher le résultat."
   ]
  },
  {
   "cell_type": "code",
   "execution_count": null,
   "metadata": {},
   "outputs": [],
   "source": []
  },
  {
   "cell_type": "markdown",
   "metadata": {},
   "source": [
    "# Normaliser des colonnes (pratique)"
   ]
  },
  {
   "cell_type": "markdown",
   "metadata": {},
   "source": [
    "- Normaliser les valeurs de la colonne \"Protein_(g)\" et assigner le resultat à la variable normalized_protein.\n",
    "\n",
    "- Normaliser les valeurs de la colonne \"Lipid_tot_(g)\" et assigner à la variable normalized_fat.\n",
    "\n",
    "- Afficher les variables normalized_protein et normalized_fat"
   ]
  },
  {
   "cell_type": "code",
   "execution_count": 8,
   "metadata": {},
   "outputs": [],
   "source": [
    "# en cours"
   ]
  },
  {
   "cell_type": "markdown",
   "metadata": {},
   "source": [
    "# Créer une nouvelle colonne (pratique)"
   ]
  },
  {
   "cell_type": "markdown",
   "metadata": {},
   "source": [
    "Assigner la colonne normalisée representée par la variable normalized_protein à la nouvelle colonne qu'on nommera \"Normalized_Protein\" dans le DataFrame food_info.\n",
    "\n",
    "Assigner la colonne normalisée représentée par la variable normalized_fat à la nouvelle colonne qu'on nommera \"Normalized_Fat\" dans le DataFrame food_info.\n",
    "\n",
    "Afficher les 5 premieres valeurs du DataFrame food_info"
   ]
  },
  {
   "cell_type": "code",
   "execution_count": null,
   "metadata": {},
   "outputs": [],
   "source": []
  },
  {
   "cell_type": "markdown",
   "metadata": {},
   "source": [
    "# Créer un indice nutritionnel normalisé"
   ]
  },
  {
   "cell_type": "markdown",
   "metadata": {},
   "source": [
    "Score = 2 x Normalized_Protein - 0.75 x Normalized_Fat\n",
    "\n",
    "Utiliser les colonnes Normalized_Protein et Normalized_Fat avec cette formule pour créer une nouvelle colonne qu'on nommera Norm_Nutr_Index.\n",
    "\n",
    "Afficher le DataFrame food_info ( Les 3 premieres lignes )"
   ]
  },
  {
   "cell_type": "code",
   "execution_count": null,
   "metadata": {},
   "outputs": [],
   "source": []
  },
  {
   "cell_type": "markdown",
   "metadata": {},
   "source": [
    "# Trier un DataFrame (pratique)"
   ]
  },
  {
   "cell_type": "markdown",
   "metadata": {},
   "source": [
    "- Remplacer le DataFrame food_info en triant par rapport à la colonne Norm_Nutr_Index de façon decroissante (du plus grand au plus petit).\n",
    "\n",
    "- Afficher les 3 premiéres lignes."
   ]
  },
  {
   "cell_type": "code",
   "execution_count": 9,
   "metadata": {},
   "outputs": [],
   "source": [
    "# en cours"
   ]
  },
  {
   "cell_type": "markdown",
   "metadata": {},
   "source": [
    "# Trouver les valeurs manquantes (pratique)"
   ]
  },
  {
   "cell_type": "markdown",
   "metadata": {},
   "source": [
    "Lire le DataSet titanic_survival.csv.\n",
    "\n",
    "Assigner titanic_survival au DataSet titanic_survival.csv"
   ]
  },
  {
   "cell_type": "markdown",
   "metadata": {},
   "source": [
    "Compter le nombre de valeurs dans la colonne \"age\" possédant des valeurs manquantes:\n",
    "\n",
    "- Assigner à la variable age la colonne des \"age\" du DataFrame titanic_survival.\n",
    "\n",
    "- Utiliser la Series résultante pour sélectionner seulement les élements de la colonne \"age\" qui sont nuls(NaN) et assigner le résultat à la variable age_null.\n",
    "\n",
    "- Assigner le nombre de valeur manquantes de age_null à la variale age_null_count (fonction len())\n",
    "\n",
    "-Afficher age_null_count pour voir le nombre de valeurs manquante de la colonne \"age\""
   ]
  },
  {
   "cell_type": "code",
   "execution_count": null,
   "metadata": {},
   "outputs": [],
   "source": []
  },
  {
   "cell_type": "markdown",
   "metadata": {},
   "source": [
    "# Calcul de la moyenne du prix (\"fare\")"
   ]
  },
  {
   "cell_type": "markdown",
   "metadata": {},
   "source": [
    "Assigner la moyenne de la colonne \"fare\" à la variable mean_fare et afficher le resultat."
   ]
  },
  {
   "cell_type": "code",
   "execution_count": null,
   "metadata": {},
   "outputs": [],
   "source": []
  },
  {
   "cell_type": "markdown",
   "metadata": {},
   "source": [
    "# Calculer des statistiques de prix"
   ]
  },
  {
   "cell_type": "markdown",
   "metadata": {},
   "source": [
    "- Créer un dictionnaire vide qu'on nommera fares_by_class.\n",
    "\n",
    "- Créer la liste passenger_classes qui contient les éléments [1, 2, 3].\n",
    "\n",
    "- Utiliser une boucle for pour parcourir la liste passenger_classes:\n",
    "\n",
    "Selectionner juste les lignes de titanic_survival pour lesquelles la colonne pclass est égale à la variable temporaire (l'itérateur) de la boucle for, c'est à dire correspondant au numéro de classe (1, 2 ou 3)\n",
    "\n",
    "Selectionner seulement la colonne \"fare\" pour ce sous-ensemble de lignes (correspondant à la classe)\n",
    "\n",
    "Utiliser la methode Series.mean() pour calculer la moyenne de ce sous-ensemble.\n",
    "\n",
    "Ajouter cette moyenne calculée de la classe au dictionnaire fares_by_class avec comme clé, le numero de la classe (et donc comme valeur la moyenne du prix du billet d'embarquement)\n",
    "\n",
    "- Une fois la boucle achevée, le dictionnaire fares_by_class devrait avoir 1, 2 et 3 comme clés avec en valeur les moyennes correspondantes.\n",
    "\n",
    "Il suffit d'afficher le résultat pour finir."
   ]
  },
  {
   "cell_type": "code",
   "execution_count": null,
   "metadata": {},
   "outputs": [],
   "source": []
  },
  {
   "cell_type": "markdown",
   "metadata": {},
   "source": [
    "# Introduction sur le pivot de table (pratique)"
   ]
  },
  {
   "cell_type": "markdown",
   "metadata": {},
   "source": [
    "Utiliser la méthode DataFrame.pivot_table() pour calculer la moyenne de l'age pour chaque classe de passager(\"pclass\")\n",
    "\n",
    "Assigner le resultat à la variable passenger_age\n",
    "\n",
    "Afficher passenger_age\n",
    "\n",
    "Faire de meme avaec la colonne survived pour chaque classe de passager."
   ]
  },
  {
   "cell_type": "code",
   "execution_count": null,
   "metadata": {},
   "outputs": [],
   "source": []
  },
  {
   "cell_type": "markdown",
   "metadata": {},
   "source": [
    "# Table pivot niveau 2"
   ]
  },
  {
   "cell_type": "markdown",
   "metadata": {},
   "source": [
    "Faire un pivot de table qui calcule le total d'argent encaissé (\"fare\") et le nombre total de survivants (\"survived\") pour chaque port\n",
    "d'embarcation (\"embarked\").\n",
    "\n",
    "Il faudra utiliser la fonction numpy.sum()\n",
    "\n",
    "Assigner le résultat à la variable port_stats et afficher le resultat"
   ]
  },
  {
   "cell_type": "code",
   "execution_count": null,
   "metadata": {},
   "outputs": [],
   "source": []
  },
  {
   "cell_type": "markdown",
   "metadata": {},
   "source": [
    "# Eliminer les valeurs manquantes (pratique)"
   ]
  },
  {
   "cell_type": "markdown",
   "metadata": {},
   "source": [
    "Supprimer toutes les lignes de titanic_survival pour lesquelles les colonnes \"age\" ou \"sex\" ont des valeurs manquantes et assigner le resultat à la variable new_titanic_survival.\n",
    "\n",
    "Comparer le nombre de lignes qu'il reste avec l'attribut shape."
   ]
  },
  {
   "cell_type": "code",
   "execution_count": 7,
   "metadata": {},
   "outputs": [],
   "source": [
    "# les colonnes \"age\" et \"sex\" ne presenteront aucunes valeurs manquantes"
   ]
  },
  {
   "cell_type": "code",
   "execution_count": null,
   "metadata": {},
   "outputs": [],
   "source": []
  },
  {
   "cell_type": "markdown",
   "metadata": {},
   "source": [
    "# Iloc pour accéder à des lignes (pratique)"
   ]
  },
  {
   "cell_type": "markdown",
   "metadata": {},
   "source": [
    "Nous utiliserons titanic_survival de la pratique precedente.\n",
    "\n",
    "Assigner les 10 premieres lignes de titanic_survival à la variable first_ten_rows.\n",
    "\n",
    "Assigner la 5eme ligne de titanic_survival à la variable row_position_fifth.\n",
    "\n",
    "Assigner la ligne dont l'ontitulé d'index est 25 pour titanic_survival à la variable row_index_25."
   ]
  },
  {
   "cell_type": "code",
   "execution_count": null,
   "metadata": {},
   "outputs": [],
   "source": []
  },
  {
   "cell_type": "markdown",
   "metadata": {},
   "source": [
    "# Les index de colonne (pratique)"
   ]
  },
  {
   "cell_type": "markdown",
   "metadata": {},
   "source": [
    "Assigner la valeur d'intitulé de ligne 1100 pour la colonne \"age\" de new_titanic_survival à la variable row_index_1100_age.\n",
    "\n",
    "Assigner la valeur d'intitulé de ligne 25 pour la colonne \"survived\" de new_titanic_survival à la variable row_index_25_survived.\n",
    "\n",
    "Afficher tous les resultats\n",
    "\n",
    "Afficher via five_rows_three_cols la liste des 5 premieres positions du DataFrame new_titanic_survival ainsi que les 3 premieres colonnes."
   ]
  },
  {
   "cell_type": "code",
   "execution_count": null,
   "metadata": {},
   "outputs": [],
   "source": []
  },
  {
   "cell_type": "markdown",
   "metadata": {},
   "source": [
    "# Réindexer les lignes d'un DataFrame (pratique)"
   ]
  },
  {
   "cell_type": "markdown",
   "metadata": {},
   "source": [
    "- Ré-indexer le DataFrame new_titanic_survival pour que la premiere ligne commence par 0 et supprimer l'ancien indexage.\n",
    "\n",
    "- Assigner le résultat à la variable titanic_reindexed.\n",
    "\n",
    "- Afficher les 5 premieres lignes et 3 premieres colonnes de titanic_reindexed."
   ]
  },
  {
   "cell_type": "code",
   "execution_count": null,
   "metadata": {},
   "outputs": [],
   "source": []
  },
  {
   "cell_type": "markdown",
   "metadata": {},
   "source": [
    "# Appliquer des fonctions sur un DataFrame (pratique)"
   ]
  },
  {
   "cell_type": "markdown",
   "metadata": {},
   "source": [
    "Ecrire une fonction qui compte le nombre d'élements manquants d'un objet Series.\n",
    "\n",
    "Utiliser la methode DataFrame.apply() pour appliquer votre fonction sur titanic_survival.\n",
    "\n",
    "Assigner le résultat à la variable column_null_count\n",
    "\n",
    "Afficher le résultat"
   ]
  },
  {
   "cell_type": "code",
   "execution_count": null,
   "metadata": {},
   "outputs": [],
   "source": []
  },
  {
   "cell_type": "markdown",
   "metadata": {},
   "source": [
    "# Appliquer une fonction à une ligne (pratique)"
   ]
  },
  {
   "cell_type": "markdown",
   "metadata": {},
   "source": [
    "Créer une fonction qui retourne la chaine de caracteres \"minior\" pour quelqu'un de moins de 18 ans, \"adult\" si son age est superieur ou égal à 18 et \"unknown\" si la valeur est manquante.\n",
    "Utiliser cette fonction avec la méthode apply() pour trouver l'intitulé pour chaque passagers du DataFrame titanic_survival\n",
    "\n",
    "Assigner le resultat à la variable age_labels\n",
    "\n",
    "Afficher le résultat"
   ]
  },
  {
   "cell_type": "code",
   "execution_count": null,
   "metadata": {},
   "outputs": [],
   "source": []
  },
  {
   "cell_type": "markdown",
   "metadata": {},
   "source": [
    "# Pratique: Calculer le pourcentage de survie par groupe d'âge"
   ]
  },
  {
   "cell_type": "markdown",
   "metadata": {},
   "source": [
    "Ajouter la colonne \"age_labels\" au DataFrame titanic_survival contenant la variable age_labels qu'on a crée dans l'exo prècedent.\n",
    "\n",
    "Créer une table pivot qui calcule la moyenne de chance de survie (colonne \"survived\") pour chaque groupe d'age (colonne \"age_labels\") du DataFrame titanic_survival\n",
    "\n",
    "Assigner l'objet Series résultant à la variable age_group_survival\n",
    "\n",
    "Afficher le résultat"
   ]
  },
  {
   "cell_type": "markdown",
   "metadata": {},
   "source": [
    "# Challenge : Analyser de la Data"
   ]
  },
  {
   "cell_type": "markdown",
   "metadata": {},
   "source": [
    "Introduction au Dataset\n",
    "\n",
    "- Lire all-ages.csv dans un DataFrame et l'assigner à la variable all_ages.\n",
    "\n",
    "- Lire recent-grads.csv dans un DataFrame et l'assigner à la variable recent_grads.\n",
    "\n",
    "- Afficher les 5 premieres lignes de all_ages et recent_grads"
   ]
  },
  {
   "cell_type": "markdown",
   "metadata": {},
   "source": [
    "Nombre d'étudiants par catégorie de major"
   ]
  },
  {
   "cell_type": "markdown",
   "metadata": {},
   "source": [
    "- Retourner les valeurs uniques de Major_category\n",
    "\n",
    "- Utiliser la methode Series.unique() pour retourner les valeurs uniques d'une Series"
   ]
  },
  {
   "cell_type": "markdown",
   "metadata": {},
   "source": [
    "Pour chaque valeur unique (utilisation d'une boucle for ?)\n",
    "\n",
    "    - Retourner toutes les lignes ou Major_category vaut cette valeur unique.\n",
    "    \n",
    "    - Calculer le nombre total d'étudiants representant cette categorie de major (colonne total à sommer)\n",
    "    \n",
    "    - Vous garderez en mémoire ce resultat sous la forme d'un dictionnaire contenant une Major_category en clé et le nombre d'étudiants en valeur."
   ]
  },
  {
   "cell_type": "markdown",
   "metadata": {},
   "source": [
    "MISSION\n",
    "\n",
    "    - Créer une fonction dans laquelle vous utiliserez la colonne Total pour calculer le nombre d'étutiants pour chaque catégorie de Major (Major_category) dans chaque DataSet.\n",
    "    \n",
    "    - Stocker le resultat dans 2 dictionnaires distincts.\n",
    "    \n",
    "    - La clé pour chaque dictionnaire sera Major_category et la valeur le total d'étudiants.\n",
    "    \n",
    "    -Pour le dataset all_ages, stocker le resultat dans un dictionnaire qu'on nommera rg_cat_counts\n",
    "    \n",
    "    - Pour le Dataset recent_grads, stocker le resultat dans un dictionnaire qu'on nommera rg_cat_counts\n",
    "    Autre méthode : Utiliser un pivot de table\n"
   ]
  },
  {
   "cell_type": "markdown",
   "metadata": {},
   "source": [
    "Afficher les 2 dictionnaires"
   ]
  },
  {
   "cell_type": "markdown",
   "metadata": {},
   "source": [
    "# Taux de jobs à faible salaire"
   ]
  },
  {
   "cell_type": "markdown",
   "metadata": {},
   "source": [
    "Utiliser les colonnes \"Low_wage_jobs\" et \"Total\" pour calculer la proportion de jeunes diplomés qui ont du trouver des jobs à faible salaire (recent_grads)\n",
    "\n",
    "-Souvenez-vous que vous pouvez utiliser la méthode Series.sum() pour retourner la somme des valeurs d'une colonne.\n",
    "Stocker le resultat dans la variable low_wage_proportion et afficher le."
   ]
  },
  {
   "cell_type": "code",
   "execution_count": null,
   "metadata": {},
   "outputs": [],
   "source": []
  },
  {
   "cell_type": "markdown",
   "metadata": {},
   "source": [
    "# Alignement des données"
   ]
  },
  {
   "cell_type": "code",
   "execution_count": 10,
   "metadata": {},
   "outputs": [],
   "source": [
    "# Les objets series s'alignent avec les index\n",
    "\n",
    "# Les DataFrames avec les index et les colonnes"
   ]
  },
  {
   "cell_type": "markdown",
   "metadata": {},
   "source": [
    "- Créer la Series rt_critics qui index les valeurs des notes de la colonne RottenTomatoes(notes des critiques) avec comme index le nom des films (colonne FILM)"
   ]
  },
  {
   "cell_type": "markdown",
   "metadata": {},
   "source": [
    "- Créer la Series rt_users qui index les valeurs des notes de la colonne RottenTomatoes_User (note des utilisateurs) avec comme index le nom des films (colonne FILM)"
   ]
  },
  {
   "cell_type": "markdown",
   "metadata": {},
   "source": [
    "- rt_critics et rt_users sont donc 2 objets Series contenant la moyenne des notes des critiques et des utilisateurs pour chaque film"
   ]
  },
  {
   "cell_type": "markdown",
   "metadata": {},
   "source": [
    "- Puisque chaque Series utilise le meme index (correspondant aux noms des films), utiliser des operations mathematiques pour retourner la moyenne des notes des critiques et des utilisateurs pour chaque film."
   ]
  },
  {
   "cell_type": "markdown",
   "metadata": {},
   "source": [
    "- Assigner la Series résultante à la variable rt_mean"
   ]
  },
  {
   "cell_type": "markdown",
   "metadata": {},
   "source": [
    "- Afficher le resultat "
   ]
  },
  {
   "cell_type": "code",
   "execution_count": null,
   "metadata": {},
   "outputs": [],
   "source": []
  },
  {
   "cell_type": "markdown",
   "metadata": {},
   "source": [
    "# Utiliser des index entier pour selectionner des lignes"
   ]
  },
  {
   "cell_type": "markdown",
   "metadata": {},
   "source": [
    "(PRATIQUE)"
   ]
  },
  {
   "cell_type": "markdown",
   "metadata": {},
   "source": [
    "Lire le dataset \"fandango_score_comparison2\" dans le DataFrame fandango.\n",
    "\n",
    "Retourner un DataFrame contenant seulement la premiere et la derniere ligne et assigner le resultat à la variable first_last.\n",
    "\n",
    "Afficher le resultat (et faire une patite variante)"
   ]
  },
  {
   "cell_type": "code",
   "execution_count": null,
   "metadata": {},
   "outputs": [],
   "source": []
  },
  {
   "cell_type": "markdown",
   "metadata": {},
   "source": [
    "# Utiliser des index personnalisés (PRATIQUE)"
   ]
  },
  {
   "cell_type": "markdown",
   "metadata": {},
   "source": [
    "\n",
    "    - Utiliser la méthode set_index pour indéxer notre DataFrame fandango avec la colonne \"FILM\".\n",
    "    \n",
    "    - A préciser que nous souhaitons conserver la colonne \"FILM\".\n",
    "    \n",
    "    - De plus nous souhaitions garder le DataFrame d'origine et en créer un nouveau que nous assignerons à la variable fandango_films."
   ]
  },
  {
   "cell_type": "markdown",
   "metadata": {},
   "source": [
    "    - Afficher l'index du DataFrame fandango_films à l'aide de l'attribut index."
   ]
  },
  {
   "cell_type": "code",
   "execution_count": null,
   "metadata": {},
   "outputs": [],
   "source": []
  },
  {
   "cell_type": "markdown",
   "metadata": {},
   "source": [
    "# Sélectionner des valeurs depuis un index personnalisé (PRATIQUE)"
   ]
  },
  {
   "cell_type": "markdown",
   "metadata": {},
   "source": [
    "Selectionner les films suivants depuis le DataFrame fandango_films (dans l'ordre suivant) et assigner les à la variable some_movies:\n",
    "\n",
    "\"Top Five (2014)\", \"Black Sea (2015)\", \"Takken 3 (2015)\"\n",
    "\n",
    "Afficher le résultat"
   ]
  },
  {
   "cell_type": "code",
   "execution_count": null,
   "metadata": {},
   "outputs": [],
   "source": []
  },
  {
   "cell_type": "code",
   "execution_count": null,
   "metadata": {},
   "outputs": [],
   "source": []
  }
 ],
 "metadata": {
  "kernelspec": {
   "display_name": "Python 3",
   "language": "python",
   "name": "python3"
  },
  "language_info": {
   "codemirror_mode": {
    "name": "ipython",
    "version": 3
   },
   "file_extension": ".py",
   "mimetype": "text/x-python",
   "name": "python",
   "nbconvert_exporter": "python",
   "pygments_lexer": "ipython3",
   "version": "3.7.6"
  }
 },
 "nbformat": 4,
 "nbformat_minor": 4
}
