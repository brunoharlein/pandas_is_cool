{
 "cells": [
  {
   "cell_type": "markdown",
   "metadata": {},
   "source": [
    "importer la librairie pandas et renommer la en pd"
   ]
  },
  {
   "cell_type": "markdown",
   "metadata": {},
   "source": [
    "Créer un DataFrame food_info via le fichier csv food_info.csv"
   ]
  },
  {
   "cell_type": "markdown",
   "metadata": {},
   "source": [
    "Sélectionner une ligne Assigner la 100 eme ligne du dataframe food_info à la variable row_100 afficher le resultat."
   ]
  },
  {
   "cell_type": "markdown",
   "metadata": {},
   "source": [
    "Je voudrais connaitre le nombre de ligne effectives dans la colonne \"Water_(g)\" (Combien de lignes sont avec du contenu \" donc sans la valeur NaN\")\n",
    "Assigner le résultat sous c_water et afficher le résultat \n",
    "pour info : https://pandas.pydata.org/pandas-docs/stable/reference/frame.html"
   ]
  },
  {
   "cell_type": "code",
   "execution_count": null,
   "metadata": {},
   "outputs": [],
   "source": []
  },
  {
   "cell_type": "markdown",
   "metadata": {},
   "source": [
    "Sélectionner les 5 dernieres lignes de food_info et assigner à la variable last_rows.\n",
    "Recommencer mais d'une autre façon en assignant la variable last_rows2"
   ]
  },
  {
   "cell_type": "code",
   "execution_count": null,
   "metadata": {},
   "outputs": [],
   "source": []
  },
  {
   "cell_type": "markdown",
   "metadata": {},
   "source": [
    "Assigner la colonne \"protein_(g)\" à la variable protein.\n",
    "Assigner la colonne \"Cholestrl_(mg)\" à la variable cholesterol.\n",
    "Afficher les resultats"
   ]
  },
  {
   "cell_type": "code",
   "execution_count": null,
   "metadata": {},
   "outputs": [],
   "source": []
  },
  {
   "cell_type": "markdown",
   "metadata": {},
   "source": [
    "Sélectionner les colonnes \"Shrt_Desc\", \"Selenium_(mcg)\" et \"Thiamin_(mg)\" et assigner le DataFrame resultant à la variable selenium_thiamin.\n",
    "Afficher le résultat"
   ]
  },
  {
   "cell_type": "code",
   "execution_count": null,
   "metadata": {},
   "outputs": [],
   "source": []
  },
  {
   "cell_type": "markdown",
   "metadata": {},
   "source": [
    "# Cas pratique"
   ]
  },
  {
   "cell_type": "markdown",
   "metadata": {},
   "source": [
    "Selectionner et afficher seulement les colonnes qui utilisent comme unité de mesure les grammes (c'est à dire qui se termine par \"(g)\". Pour cela\n",
    "- Utiliser l'attribut columns pour retourner le nom des colonnes du dataframe food_info et convertir en liste utilisant la methode tolist()\n",
    "- Créer une nouvelle liste qu'on nommera gram_columns, contenant seulement les colonnes se terminant par \"(g)\". Indice: la méthode endswith() retourne True si l'objet sur lequel on l'applique se termine par l'élément entre parenthèse. ex: total(g).endswith(\"g\") retourne True. Une boucle for est fortement conseillé pour parcourir les noms de colonne.\n",
    "-Selectionner les colonnes de gram_columns pour le dataframe food_info et assigner le dataframe résultat à la variable gram_df\n",
    "- Afficher les 3 premieres valeurs de ce dataframe gram_df\n",
    "\n",
    "Voici la doc pandas au cas ou : https://pandas.pydata.org/pandas-docs/stable/reference/io.html"
   ]
  },
  {
   "cell_type": "code",
   "execution_count": null,
   "metadata": {},
   "outputs": [],
   "source": []
  },
  {
   "cell_type": "markdown",
   "metadata": {},
   "source": [
    "\n",
    "Importer la librairie Pandas.\n",
    "\n",
    "Lire le fichier \"food_info.csv\" dans un dataframe qu'on nommera food_info.\n",
    "\n",
    "Utiliser l'attribut DataFrame columns suivi de la méthode Index.tolist() pour retourner une liste contenant tous les noms de colonne de food_info.\n",
    "\n",
    "Assigner la liste resultante à la variable col-names et utiliser la fonction print() pour afficher le nom des colonnes.\n",
    "\n",
    "Enfin afficher les 3 premiers éléments de food_info"
   ]
  },
  {
   "cell_type": "code",
   "execution_count": null,
   "metadata": {},
   "outputs": [],
   "source": []
  },
  {
   "cell_type": "markdown",
   "metadata": {},
   "source": [
    "# Transformer une colonne (pratique)"
   ]
  },
  {
   "cell_type": "markdown",
   "metadata": {},
   "source": [
    "- Diviser la colonne \"Sodium_(mg)\" par 1000 pour convertir cette colonne en grammes et assigner le resultat à la variable sodium_grams.\n",
    "\n",
    "- Multiplier la colonne \"Sugar_Tot(g)\" par 1000 pour convertir en milligrammes et assigner le resultat à la variable sugar_milligrams."
   ]
  },
  {
   "cell_type": "code",
   "execution_count": null,
   "metadata": {},
   "outputs": [],
   "source": []
  },
  {
   "cell_type": "markdown",
   "metadata": {},
   "source": [
    "# Opérations mathématiques entre colonnes (pratique)"
   ]
  },
  {
   "cell_type": "markdown",
   "metadata": {},
   "source": [
    "- Diviser la colonne \"Protein(g)\" par la colonne \"Water(g)\" et assigner le résultat à la variable grams_of_protein_per_gram_of_water.\n",
    "\n",
    "- Additionner les colonnes \"Calcium(mg)\" et \"Iron(mg\" et assigner le résultat à la variable milligrams_of_calcium_and_iron.\n",
    "\n",
    "- Afficher les resultats"
   ]
  },
  {
   "cell_type": "code",
   "execution_count": null,
   "metadata": {},
   "outputs": [],
   "source": []
  },
  {
   "cell_type": "markdown",
   "metadata": {},
   "source": [
    "# Créer un indice nutritionnel (pratique)"
   ]
  },
  {
   "cell_type": "markdown",
   "metadata": {},
   "source": [
    "Score = 2 x (Protein_(g)) - 0.75 x (LipidTot(g))"
   ]
  },
  {
   "cell_type": "markdown",
   "metadata": {},
   "source": [
    "- Multiplier la colonne \"Protein_(g)\" par 2 et assigner le résultat à la variable protein.\n",
    "\n",
    "- Multiplier la colonne \"LipidTot(g)\" par -0.75 et assigner le résultat à la variable fat.\n",
    "\n",
    "- Additionner les variables ensemble et assigner le résultat à la variable rating.\n",
    "\n",
    "- Afficher le résultat."
   ]
  },
  {
   "cell_type": "code",
   "execution_count": null,
   "metadata": {},
   "outputs": [],
   "source": []
  },
  {
   "cell_type": "markdown",
   "metadata": {},
   "source": [
    "# Normaliser des colonnes (pratique)"
   ]
  },
  {
   "cell_type": "markdown",
   "metadata": {},
   "source": [
    "- Normaliser les valeurs de la colonne \"Protein_(g)\" et assigner le resultat à la variable normalized_protein.\n",
    "\n",
    "- Normaliser les valeurs de la colonne \"Lipid_tot_(g)\" et assigner à la variable normalized_fat.\n",
    "\n",
    "- Afficher les variables normalized_protein et normalized_fat"
   ]
  },
  {
   "cell_type": "code",
   "execution_count": null,
   "metadata": {},
   "outputs": [],
   "source": []
  },
  {
   "cell_type": "markdown",
   "metadata": {},
   "source": [
    "# Créer une nouvelle colonne (pratique)"
   ]
  },
  {
   "cell_type": "markdown",
   "metadata": {},
   "source": [
    "Assigner la colonne normalisée representée par la variable normalized_protein à la nouvelle colonne qu'on nommera \"Normalized_Protein\" dans le DataFrame food_info.\n",
    "\n",
    "Assigner la colonne normalisée représentée par la variable normalized_fat à la nouvelle colonne qu'on nommera \"Normalized_Fat\" dans le DataFrame food_info.\n",
    "\n",
    "Afficher les 5 premieres valeurs du DataFrame food_info"
   ]
  },
  {
   "cell_type": "code",
   "execution_count": null,
   "metadata": {},
   "outputs": [],
   "source": []
  }
 ],
 "metadata": {
  "kernelspec": {
   "display_name": "Python 3",
   "language": "python",
   "name": "python3"
  },
  "language_info": {
   "codemirror_mode": {
    "name": "ipython",
    "version": 3
   },
   "file_extension": ".py",
   "mimetype": "text/x-python",
   "name": "python",
   "nbconvert_exporter": "python",
   "pygments_lexer": "ipython3",
   "version": "3.7.6"
  }
 },
 "nbformat": 4,
 "nbformat_minor": 4
}
