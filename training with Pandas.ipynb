{
 "cells": [
  {
   "cell_type": "markdown",
   "metadata": {},
   "source": [
    "importer la librairie pandas et renommer la en pd"
   ]
  },
  {
   "cell_type": "markdown",
   "metadata": {},
   "source": [
    "Créer un DataFrame food_info via le fichier csv food_info.csv"
   ]
  },
  {
   "cell_type": "markdown",
   "metadata": {},
   "source": [
    "Sélectionner une ligne Assigner la 100 eme ligne du dataframe food_info à la variable row_100 afficher le resultat."
   ]
  },
  {
   "cell_type": "markdown",
   "metadata": {},
   "source": [
    "Je voudrais connaitre le nombre de ligne effectives dans la colonne \"Water_(g)\" (Combien de lignes sont avec du contenu \" donc sans la valeur NaN\")\n",
    "Assigner le résultat sous c_water et afficher le résultat \n",
    "pour info : https://pandas.pydata.org/pandas-docs/stable/reference/frame.html"
   ]
  },
  {
   "cell_type": "code",
   "execution_count": null,
   "metadata": {},
   "outputs": [],
   "source": []
  },
  {
   "cell_type": "markdown",
   "metadata": {},
   "source": [
    "Sélectionner les 5 dernieres lignes de food_info et assigner à la variable last_rows.\n",
    "Recommencer mais d'une autre façon en assignant la variable last_rows2"
   ]
  },
  {
   "cell_type": "code",
   "execution_count": null,
   "metadata": {},
   "outputs": [],
   "source": []
  },
  {
   "cell_type": "markdown",
   "metadata": {},
   "source": [
    "Assigner la colonne \"protein_(g)\" à la variable protein.\n",
    "Assigner la colonne \"Cholestrl_(mg)\" à la variable cholesterol.\n",
    "Afficher les resultats"
   ]
  },
  {
   "cell_type": "code",
   "execution_count": null,
   "metadata": {},
   "outputs": [],
   "source": []
  },
  {
   "cell_type": "markdown",
   "metadata": {},
   "source": [
    "Sélectionner les colonnes \"Shrt_Desc\", \"Selenium_(mcg)\" et \"Thiamin_(mg)\" et assigner le DataFrame resultant à la variable selenium_thiamin.\n",
    "Afficher le résultat"
   ]
  },
  {
   "cell_type": "code",
   "execution_count": null,
   "metadata": {},
   "outputs": [],
   "source": []
  }
 ],
 "metadata": {
  "kernelspec": {
   "display_name": "Python 3",
   "language": "python",
   "name": "python3"
  },
  "language_info": {
   "codemirror_mode": {
    "name": "ipython",
    "version": 3
   },
   "file_extension": ".py",
   "mimetype": "text/x-python",
   "name": "python",
   "nbconvert_exporter": "python",
   "pygments_lexer": "ipython3",
   "version": "3.7.6"
  }
 },
 "nbformat": 4,
 "nbformat_minor": 4
}
